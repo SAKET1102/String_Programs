{
 "cells": [
  {
   "cell_type": "markdown",
   "metadata": {},
   "source": [
    "# Python – Replace duplicate Occurrence in String"
   ]
  },
  {
   "cell_type": "code",
   "execution_count": 11,
   "metadata": {},
   "outputs": [
    {
     "data": {
      "text/plain": [
       "'Saket He is doing coding.'"
      ]
     },
     "execution_count": 11,
     "metadata": {},
     "output_type": "execute_result"
    }
   ],
   "source": [
    "tst = \"Saket Saket is doing coding.\"\n",
    "repl_dict = {\"Saket\":\"He\"}\n",
    "test_list = tst.split(' ')\n",
    "res = set()\n",
    "for idx, ele in enumerate(test_list):\n",
    "    if ele in repl_dict:\n",
    "        if ele in res:\n",
    "            test_list[idx] = repl_dict[ele]\n",
    "        else:\n",
    "            res.add(ele)\n",
    "res = ' '.join(test_list)    \n",
    "res"
   ]
  }
 ],
 "metadata": {
  "kernelspec": {
   "display_name": "Python 3",
   "language": "python",
   "name": "python3"
  },
  "language_info": {
   "codemirror_mode": {
    "name": "ipython",
    "version": 3
   },
   "file_extension": ".py",
   "mimetype": "text/x-python",
   "name": "python",
   "nbconvert_exporter": "python",
   "pygments_lexer": "ipython3",
   "version": "3.8.3"
  }
 },
 "nbformat": 4,
 "nbformat_minor": 4
}
