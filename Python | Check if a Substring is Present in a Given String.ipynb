{
 "cells": [
  {
   "cell_type": "markdown",
   "metadata": {},
   "source": [
    "# Python | Check if a Substring is Present in a Given String\n"
   ]
  },
  {
   "cell_type": "code",
   "execution_count": 2,
   "metadata": {},
   "outputs": [],
   "source": [
    "s1 = 'geeks'\n",
    "s2= 'geeks for geeks'"
   ]
  },
  {
   "cell_type": "code",
   "execution_count": 11,
   "metadata": {},
   "outputs": [
    {
     "name": "stdout",
     "output_type": "stream",
     "text": [
      "Yes\n",
      "No\n",
      "Yes\n"
     ]
    }
   ],
   "source": [
    "for i in s2.split(' '):\n",
    "    if i in s1:\n",
    "        print(\"Yes\")\n",
    "    else:\n",
    "        print(\"No\")"
   ]
  },
  {
   "cell_type": "code",
   "execution_count": 27,
   "metadata": {},
   "outputs": [
    {
     "name": "stdout",
     "output_type": "stream",
     "text": [
      "-1\n",
      "No\n"
     ]
    }
   ],
   "source": [
    "#Using str.find function\n",
    "def chksbr(string,substr):\n",
    "    print(string.find(substr))\n",
    "    if (string.find(substr) == -1):\n",
    "        print(\"No\")\n",
    "    else:\n",
    "        print(\"Yes\")\n",
    "    \n",
    "    \n",
    "sub_str = 'sss'\n",
    "string = 'sss sss sss'\n",
    "chksbr(string,substr)"
   ]
  },
  {
   "cell_type": "code",
   "execution_count": 28,
   "metadata": {},
   "outputs": [
    {
     "name": "stdout",
     "output_type": "stream",
     "text": [
      "YES\n"
     ]
    }
   ],
   "source": [
    "#Using count function\n",
    "def check(s2, s1): \n",
    "    if (s2.count(s1)>0):     \n",
    "        print(\"YES\") \n",
    "    else: \n",
    "        print(\"NO\") \n",
    "              \n",
    "s2 = \"A geek in need is a geek indeed\"\n",
    "s1 =\"geek\"\n",
    "check(s2, s1) "
   ]
  },
  {
   "cell_type": "code",
   "execution_count": 29,
   "metadata": {},
   "outputs": [
    {
     "name": "stdout",
     "output_type": "stream",
     "text": [
      "YES,string 'geek' is present in string 'A geek in need is a geek indeed' \n"
     ]
    }
   ],
   "source": [
    "import re\n",
    "  \n",
    "# Take input from users\n",
    "MyString1 =  \"A geek in need is a geek indeed\"\n",
    "MyString2 =\"geek\"\n",
    "  \n",
    "# re.search() returns a Match object if there is a match anywhere in the string\n",
    "if re.search( MyString2, MyString1 ):\n",
    "    print(\"YES,string '{0}' is present in string '{1}' \" .format(MyString2,MyString1))\n",
    "else:\n",
    "    print(\"NO,string '{0}' is not present in string {1} \" .format(MyString2, MyString1) )"
   ]
  },
  {
   "cell_type": "code",
   "execution_count": null,
   "metadata": {},
   "outputs": [],
   "source": []
  }
 ],
 "metadata": {
  "kernelspec": {
   "display_name": "Python 3",
   "language": "python",
   "name": "python3"
  },
  "language_info": {
   "codemirror_mode": {
    "name": "ipython",
    "version": 3
   },
   "file_extension": ".py",
   "mimetype": "text/x-python",
   "name": "python",
   "nbconvert_exporter": "python",
   "pygments_lexer": "ipython3",
   "version": "3.8.3"
  }
 },
 "nbformat": 4,
 "nbformat_minor": 4
}
