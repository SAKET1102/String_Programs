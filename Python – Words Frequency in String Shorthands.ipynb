{
 "cells": [
  {
   "cell_type": "markdown",
   "metadata": {},
   "source": [
    "# Python – Words Frequency in String Shorthands"
   ]
  },
  {
   "cell_type": "code",
   "execution_count": 14,
   "metadata": {},
   "outputs": [
    {
     "name": "stdout",
     "output_type": "stream",
     "text": [
      "The original string is : Gfg is best . Geeks are good and Geeks like Gfg\n",
      "The words frequency : {'Gfg': 2, 'is': 1, 'best': 1, '.': 1, 'Geeks': 2, 'are': 1, 'good': 1, 'and': 1, 'like': 1}\n"
     ]
    }
   ],
   "source": [
    "test_str = 'Gfg is best . Geeks are good and Geeks like Gfg'\n",
    "\n",
    "print(\"The original string is : \" + str(test_str))\n",
    "\n",
    "res = {key: test_str.count(key) for key in test_str.split()}\n",
    "  \n",
    "# printing result \n",
    "print(\"The words frequency : \" + str(res)) "
   ]
  },
  {
   "cell_type": "code",
   "execution_count": 19,
   "metadata": {},
   "outputs": [
    {
     "name": "stdout",
     "output_type": "stream",
     "text": [
      "The original string is : Gfg is best . Geeks are good and Geeks like Gfg\n",
      "The words frequency : {'Gfg': 2, 'is': 1, 'best': 1, '.': 1, 'Geeks': 2, 'are': 1, 'good': 1, 'and': 1, 'like': 1}\n"
     ]
    }
   ],
   "source": [
    "#Using Collections\n",
    "from collections import Counter\n",
    "test_str = 'Gfg is best . Geeks are good and Geeks like Gfg'\n",
    "print(\"The original string is : \" + str(test_str))\n",
    "res = Counter(test_str.split())\n",
    "print(\"The words frequency : \" + str(dict(res))) "
   ]
  },
  {
   "cell_type": "code",
   "execution_count": null,
   "metadata": {},
   "outputs": [],
   "source": []
  }
 ],
 "metadata": {
  "kernelspec": {
   "display_name": "Python 3",
   "language": "python",
   "name": "python3"
  },
  "language_info": {
   "codemirror_mode": {
    "name": "ipython",
    "version": 3
   },
   "file_extension": ".py",
   "mimetype": "text/x-python",
   "name": "python",
   "nbconvert_exporter": "python",
   "pygments_lexer": "ipython3",
   "version": "3.8.3"
  }
 },
 "nbformat": 4,
 "nbformat_minor": 4
}
