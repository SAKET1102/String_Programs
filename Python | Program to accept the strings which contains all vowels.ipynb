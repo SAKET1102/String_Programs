{
 "cells": [
  {
   "cell_type": "markdown",
   "metadata": {},
   "source": [
    "# Python | Program to accept the strings which contains all vowels"
   ]
  },
  {
   "cell_type": "code",
   "execution_count": 16,
   "metadata": {},
   "outputs": [
    {
     "name": "stdout",
     "output_type": "stream",
     "text": [
      "All the letters in the strings are not vowels in the letter: Saket\n"
     ]
    }
   ],
   "source": [
    "str = \"Saket\"\n",
    "str.lower()\n",
    "vowels = set(\"aeiou\")\n",
    "s = set({})\n",
    "for i in str:\n",
    "    if i in vowels:\n",
    "        s.add(i)\n",
    "    else:\n",
    "        pass\n",
    "if (len(str) == len(s)):\n",
    "    print(\"All the letters in the strings are vowels in the letter:\",str)\n",
    "else:\n",
    "    print(\"All the letters in the strings are not vowels in the letter:\",str)"
   ]
  },
  {
   "cell_type": "code",
   "execution_count": 28,
   "metadata": {},
   "outputs": [
    {
     "name": "stdout",
     "output_type": "stream",
     "text": [
      "All the letters in the strings are not vowels in the letter: aa\n"
     ]
    }
   ],
   "source": [
    "#Another method\n",
    "str = \"AA\"\n",
    "str = str.replace(' ','')\n",
    "str = str.lower()\n",
    "vowel = [str.count('a'), str.count('e'), str.count('i'), str.count('o'), str.count('u')]\n",
    "if (vowel.count(0) > 0):\n",
    "    print(\"All the letters in the strings are not vowels in the letter:\",str)\n",
    "else:\n",
    "    print(\"All the letters in the strings are vowels in the letter:\",str)\n"
   ]
  },
  {
   "cell_type": "code",
   "execution_count": 35,
   "metadata": {},
   "outputs": [
    {
     "name": "stdout",
     "output_type": "stream",
     "text": [
      "accepted\n"
     ]
    }
   ],
   "source": [
    "def check(string):\n",
    "    if len(set(string.lower()).intersection(\"aeiou\")) >= 5:\n",
    "        return ('not accepted')\n",
    "    else:\n",
    "        return (\"accepted\")\n",
    " \n",
    "if __name__ == \"__main__\":\n",
    "    string = \"AEE\"\n",
    "    print(check(string))"
   ]
  },
  {
   "cell_type": "code",
   "execution_count": null,
   "metadata": {},
   "outputs": [],
   "source": []
  }
 ],
 "metadata": {
  "kernelspec": {
   "display_name": "Python 3",
   "language": "python",
   "name": "python3"
  },
  "language_info": {
   "codemirror_mode": {
    "name": "ipython",
    "version": 3
   },
   "file_extension": ".py",
   "mimetype": "text/x-python",
   "name": "python",
   "nbconvert_exporter": "python",
   "pygments_lexer": "ipython3",
   "version": "3.8.3"
  }
 },
 "nbformat": 4,
 "nbformat_minor": 4
}
