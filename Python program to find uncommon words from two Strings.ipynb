{
 "cells": [
  {
   "cell_type": "markdown",
   "metadata": {},
   "source": [
    "# Python program to find uncommon words from two Strings"
   ]
  },
  {
   "cell_type": "code",
   "execution_count": 15,
   "metadata": {},
   "outputs": [
    {
     "name": "stdout",
     "output_type": "stream",
     "text": [
      "Uncommon words in the list:  ['apple', 'fruits']\n"
     ]
    }
   ],
   "source": [
    "A = \"apple banana mango\" \n",
    "B = \"banana fruits mango\"\n",
    "C = []\n",
    "D = []\n",
    "for i in A.split(' '):\n",
    "    if i not in B:\n",
    "        C.append(i)\n",
    "for j in B.split(' '):\n",
    "    if j not in A:\n",
    "        D.append(j)\n",
    "print(\"Uncommon words in the list: \",C + D)"
   ]
  },
  {
   "cell_type": "code",
   "execution_count": 33,
   "metadata": {},
   "outputs": [],
   "source": [
    "#Using Dict and compre..\n",
    "def UNCMN(A,B):\n",
    "    C = {}\n",
    "    for word in A.split():\n",
    "        C[word] = C.get(word, 0) + 1\n",
    "    for word in B.split():\n",
    "        C[word] = C.get(word, 0) + 1\n",
    "    return [word for word in C if C[word] == 1]"
   ]
  },
  {
   "cell_type": "code",
   "execution_count": 34,
   "metadata": {},
   "outputs": [
    {
     "data": {
      "text/plain": [
       "['apple', 'fruits']"
      ]
     },
     "execution_count": 34,
     "metadata": {},
     "output_type": "execute_result"
    }
   ],
   "source": [
    "A = \"apple banana mango\" \n",
    "B = \"banana fruits mango\"\n",
    "UNCMN(A,B)\n"
   ]
  },
  {
   "cell_type": "code",
   "execution_count": null,
   "metadata": {},
   "outputs": [],
   "source": []
  }
 ],
 "metadata": {
  "kernelspec": {
   "display_name": "Python 3",
   "language": "python",
   "name": "python3"
  },
  "language_info": {
   "codemirror_mode": {
    "name": "ipython",
    "version": 3
   },
   "file_extension": ".py",
   "mimetype": "text/x-python",
   "name": "python",
   "nbconvert_exporter": "python",
   "pygments_lexer": "ipython3",
   "version": "3.8.3"
  }
 },
 "nbformat": 4,
 "nbformat_minor": 4
}
