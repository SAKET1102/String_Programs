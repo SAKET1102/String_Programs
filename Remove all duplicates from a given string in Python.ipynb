{
 "cells": [
  {
   "cell_type": "markdown",
   "metadata": {},
   "source": [
    "# Remove all duplicates from a given string in Python"
   ]
  },
  {
   "cell_type": "code",
   "execution_count": 10,
   "metadata": {},
   "outputs": [
    {
     "name": "stdout",
     "output_type": "stream",
     "text": [
      "Without Order: fogersk\n"
     ]
    }
   ],
   "source": [
    "str1 = 'geeksforgeeks'\n",
    "str2 = ''\n",
    "print(\"Without Order:\",''.join(set(str1)))"
   ]
  },
  {
   "cell_type": "code",
   "execution_count": 15,
   "metadata": {},
   "outputs": [
    {
     "name": "stdout",
     "output_type": "stream",
     "text": [
      "With Order: geksfor\n"
     ]
    }
   ],
   "source": [
    "str1 = 'geeksforgeeks'\n",
    "str2 = ''\n",
    "for i in str1:\n",
    "    if i in str2:\n",
    "        pass\n",
    "    else:\n",
    "        str2 = str2 + i\n",
    "print(\"With Order:\",str2)"
   ]
  },
  {
   "cell_type": "code",
   "execution_count": 14,
   "metadata": {},
   "outputs": [
    {
     "name": "stdout",
     "output_type": "stream",
     "text": [
      "ab\n"
     ]
    }
   ],
   "source": [
    "s = 'a'\n",
    "r = 'b'\n",
    "print(s + r)"
   ]
  },
  {
   "cell_type": "code",
   "execution_count": 19,
   "metadata": {},
   "outputs": [
    {
     "name": "stdout",
     "output_type": "stream",
     "text": [
      "{'a': 1, 'b': 2, 'c': 3, 'd': 4, 'e': 5, 'f': 4, 'g': 5}\n"
     ]
    }
   ],
   "source": [
    "#What do OrderedDict and fromkeys() do ?\n",
    "\n",
    "from collections import OrderedDict\n",
    "  \n",
    "ordinary_dictionary = {}\n",
    "ordinary_dictionary['a'] = 1\n",
    "ordinary_dictionary['b'] = 2\n",
    "ordinary_dictionary['c'] = 3\n",
    "ordinary_dictionary['d'] = 4\n",
    "ordinary_dictionary['e'] = 5\n",
    "ordinary_dictionary['f'] = 4\n",
    "ordinary_dictionary['g'] = 5\n",
    "print(ordinary_dictionary)"
   ]
  },
  {
   "cell_type": "code",
   "execution_count": 20,
   "metadata": {},
   "outputs": [
    {
     "name": "stdout",
     "output_type": "stream",
     "text": [
      "OrderedDict([('a', 1), ('b', 2), ('c', 3), ('d', 4), ('e', 5)])\n"
     ]
    }
   ],
   "source": [
    "ordered_dictionary = OrderedDict()\n",
    "ordered_dictionary['a'] = 1\n",
    "ordered_dictionary['b'] = 2\n",
    "ordered_dictionary['c'] = 3\n",
    "ordered_dictionary['d'] = 4\n",
    "ordered_dictionary['e'] = 5\n",
    "print(ordered_dictionary)"
   ]
  },
  {
   "cell_type": "code",
   "execution_count": 26,
   "metadata": {},
   "outputs": [
    {
     "name": "stdout",
     "output_type": "stream",
     "text": [
      "OrderedDict([('name', None), ('age', None), ('gender', None)])\n",
      "OrderedDict([('name', 10), ('age', 10), ('gender', 10)])\n"
     ]
    }
   ],
   "source": [
    "#fromkeys()\n",
    "from collections import OrderedDict\n",
    "seq = ('name', 'age', 'gender')\n",
    "seq\n",
    "dict = OrderedDict.fromkeys(seq)\n",
    "print(str(dict))\n",
    "dict = OrderedDict.fromkeys(seq, 10)\n",
    "  \n",
    "# Output = {'age': 10, 'name': 10, 'gender': 10}\n",
    "print (str(dict)) "
   ]
  },
  {
   "cell_type": "code",
   "execution_count": 30,
   "metadata": {},
   "outputs": [],
   "source": [
    "#Same thing using orderdict and fromkey()\n",
    "from collections import OrderedDict \n",
    "def removeDupWithoutOrder(str): \n",
    "    return \"\".join(set(str)) \n",
    "def removeDupWithOrder(str): \n",
    "    return \"\".join(OrderedDict.fromkeys(str)) "
   ]
  },
  {
   "cell_type": "code",
   "execution_count": 31,
   "metadata": {},
   "outputs": [
    {
     "name": "stdout",
     "output_type": "stream",
     "text": [
      "Without Order =  fogersk\n",
      "With Order =  geksfor\n"
     ]
    }
   ],
   "source": [
    "str = \"geeksforgeeks\"\n",
    "print (\"Without Order = \",removeDupWithoutOrder(str)) \n",
    "print (\"With Order = \",removeDupWithOrder(str)) "
   ]
  },
  {
   "cell_type": "code",
   "execution_count": null,
   "metadata": {},
   "outputs": [],
   "source": []
  }
 ],
 "metadata": {
  "kernelspec": {
   "display_name": "Python 3",
   "language": "python",
   "name": "python3"
  },
  "language_info": {
   "codemirror_mode": {
    "name": "ipython",
    "version": 3
   },
   "file_extension": ".py",
   "mimetype": "text/x-python",
   "name": "python",
   "nbconvert_exporter": "python",
   "pygments_lexer": "ipython3",
   "version": "3.8.3"
  }
 },
 "nbformat": 4,
 "nbformat_minor": 4
}
