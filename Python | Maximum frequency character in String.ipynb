{
 "cells": [
  {
   "cell_type": "markdown",
   "metadata": {},
   "source": [
    "# Python | Maximum frequency character in String"
   ]
  },
  {
   "cell_type": "code",
   "execution_count": 1,
   "metadata": {},
   "outputs": [
    {
     "name": "stdout",
     "output_type": "stream",
     "text": [
      "Counter({'K': 4, 'A': 3, 'S': 2, 'T': 2, 'E': 1})\n"
     ]
    },
    {
     "data": {
      "text/plain": [
       "'K'"
      ]
     },
     "execution_count": 1,
     "metadata": {},
     "output_type": "execute_result"
    }
   ],
   "source": [
    "str1 = \"SSAAAKKKKETT\"\n",
    "from collections import Counter\n",
    "str2 = Counter(str1)\n",
    "print(str2)\n",
    "max(str2,key = str2.get)"
   ]
  },
  {
   "cell_type": "code",
   "execution_count": 2,
   "metadata": {},
   "outputs": [
    {
     "name": "stdout",
     "output_type": "stream",
     "text": [
      "{'S': 2, 'A': 3, 'K': 4, 'E': 1, 'T': 2}\n",
      "K\n"
     ]
    }
   ],
   "source": [
    "str1 = \"SSAAAKKKKETT\"\n",
    "str2 = {}\n",
    "for i in str1:\n",
    "    if i in str2:\n",
    "        str2[i] += 1\n",
    "    else:\n",
    "        str2[i] = 1\n",
    "print(str2)\n",
    "print(max(str2,key = str2.get))"
   ]
  },
  {
   "cell_type": "code",
   "execution_count": null,
   "metadata": {},
   "outputs": [],
   "source": []
  }
 ],
 "metadata": {
  "kernelspec": {
   "display_name": "Python 3",
   "language": "python",
   "name": "python3"
  },
  "language_info": {
   "codemirror_mode": {
    "name": "ipython",
    "version": 3
   },
   "file_extension": ".py",
   "mimetype": "text/x-python",
   "name": "python",
   "nbconvert_exporter": "python",
   "pygments_lexer": "ipython3",
   "version": "3.8.3"
  }
 },
 "nbformat": 4,
 "nbformat_minor": 4
}
