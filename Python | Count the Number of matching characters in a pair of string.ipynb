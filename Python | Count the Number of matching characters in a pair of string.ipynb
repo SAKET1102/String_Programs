{
 "cells": [
  {
   "cell_type": "markdown",
   "metadata": {},
   "source": [
    "# Python | Count the Number of matching characters in a pair of string"
   ]
  },
  {
   "cell_type": "code",
   "execution_count": 15,
   "metadata": {},
   "outputs": [
    {
     "data": {
      "text/plain": [
       "7"
      ]
     },
     "execution_count": 15,
     "metadata": {},
     "output_type": "execute_result"
    }
   ],
   "source": [
    "str1 = 'SAKETRAJ'\n",
    "str2 = 'saketRa'\n",
    "cnt = 0\n",
    "for i in str1.lower():\n",
    "    if i in str2.lower():\n",
    "        cnt += 1\n",
    "cnt"
   ]
  },
  {
   "cell_type": "code",
   "execution_count": 16,
   "metadata": {},
   "outputs": [
    {
     "name": "stdout",
     "output_type": "stream",
     "text": [
      "No. of matching characters are  5\n"
     ]
    }
   ],
   "source": [
    "#usin Regex\n",
    "import re\n",
    "ip1 = \"geeks\"\n",
    "ip2 = \"geeksonly\"\n",
    "  \n",
    "c = 0\n",
    "for i in ip1:\n",
    "    if re.search(i,ip2):\n",
    "        c=c+1\n",
    "print(\"No. of matching characters are \", c)"
   ]
  },
  {
   "cell_type": "code",
   "execution_count": null,
   "metadata": {},
   "outputs": [],
   "source": []
  }
 ],
 "metadata": {
  "kernelspec": {
   "display_name": "Python 3",
   "language": "python",
   "name": "python3"
  },
  "language_info": {
   "codemirror_mode": {
    "name": "ipython",
    "version": 3
   },
   "file_extension": ".py",
   "mimetype": "text/x-python",
   "name": "python",
   "nbconvert_exporter": "python",
   "pygments_lexer": "ipython3",
   "version": "3.8.3"
  }
 },
 "nbformat": 4,
 "nbformat_minor": 4
}
